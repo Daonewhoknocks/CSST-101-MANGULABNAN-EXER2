{
  "nbformat": 4,
  "nbformat_minor": 0,
  "metadata": {
    "colab": {
      "provenance": []
    },
    "kernelspec": {
      "name": "python3",
      "display_name": "Python 3"
    },
    "language_info": {
      "name": "python"
    }
  },
  "cells": [
    {
      "cell_type": "code",
      "execution_count": 8,
      "metadata": {
        "colab": {
          "base_uri": "https://localhost:8080/"
        },
        "id": "d0f7DKshc6kC",
        "outputId": "0065f97e-c8e7-49d9-fa17-7df908ba8fbc"
      },
      "outputs": [
        {
          "output_type": "stream",
          "name": "stdout",
          "text": [
            "Condition of the rain: 0.4\n",
            "Condition of the humidity: 0.9\n",
            "Condition of the cover: 1\n",
            "Conditional probability of rain: 0.4444444444444445\n"
          ]
        }
      ],
      "source": [
        "def cprobability(cover, rain, humidity):\n",
        "  return (cover * rain) / humidity\n",
        "\n",
        "rain = float(input(\"Condition of the rain: \"))\n",
        "humidity = float(input(\"Condition of the humidity: \"))\n",
        "cover = float(input(\"Condition of the cover: \"))\n",
        "\n",
        "print(f\"Conditional probability of rain: {cprobability(cover, rain, humidity)}\")"
      ]
    }
  ]
}