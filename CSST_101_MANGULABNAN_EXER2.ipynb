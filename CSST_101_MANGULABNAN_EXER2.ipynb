{
  "nbformat": 4,
  "nbformat_minor": 0,
  "metadata": {
    "colab": {
      "provenance": []
    },
    "kernelspec": {
      "name": "python3",
      "display_name": "Python 3"
    },
    "language_info": {
      "name": "python"
    }
  },
  "cells": [
    {
      "cell_type": "markdown",
      "source": [
        "1. Start with coding task"
      ],
      "metadata": {
        "id": "uUvNomSX9wAt"
      }
    },
    {
      "cell_type": "code",
      "execution_count": 5,
      "metadata": {
        "colab": {
          "base_uri": "https://localhost:8080/"
        },
        "id": "xQmi5muq6R5q",
        "outputId": "b7b77732-e96a-483d-c191-8bef32045d68"
      },
      "outputs": [
        {
          "output_type": "stream",
          "name": "stdout",
          "text": [
            "Joint probability: 0.12\n",
            "Marginal probability 0.58\n",
            "Conditional probability: 0.6\n"
          ]
        }
      ],
      "source": [
        "def jprobability(pA, pB):\n",
        "  return pA * pB\n",
        "\n",
        "def mprobability(pA, pB):\n",
        "  return pA + pB - jprobability(pA, pB)\n",
        "\n",
        "def cprobability(pBA, pA, pB):\n",
        "  return (pBA * pA) / pB\n",
        "\n",
        "pA = 0.3\n",
        "pB = 0.4\n",
        "pBA = 0.8\n",
        "\n",
        "print(f\"Joint probability: {jprobability(pA, pB)}\")\n",
        "print(f\"Marginal probability {mprobability(pA, pB)}\")\n",
        "print(f\"Conditional probability: {cprobability(pBA, pA, pB)}\")"
      ]
    },
    {
      "cell_type": "markdown",
      "source": [
        "2. Interactive question."
      ],
      "metadata": {
        "id": "BwBU3SVH9za8"
      }
    },
    {
      "cell_type": "markdown",
      "source": [
        "The joing probability of A and B is **0.12** assuming they are independent"
      ],
      "metadata": {
        "id": "-5fEbXtQ92EM"
      }
    },
    {
      "cell_type": "markdown",
      "source": [
        "3. Feedback\n"
      ],
      "metadata": {
        "id": "nmD2nvhu-T_b"
      }
    },
    {
      "cell_type": "markdown",
      "source": [
        "The joint probability of two independent events is the product of their individual probabilities."
      ],
      "metadata": {
        "id": "5OYflDY6-VW0"
      }
    }
  ]
}