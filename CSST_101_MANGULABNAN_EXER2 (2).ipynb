{
  "nbformat": 4,
  "nbformat_minor": 0,
  "metadata": {
    "colab": {
      "provenance": []
    },
    "kernelspec": {
      "name": "python3",
      "display_name": "Python 3"
    },
    "language_info": {
      "name": "python"
    }
  },
  "cells": [
    {
      "cell_type": "code",
      "execution_count": null,
      "metadata": {
        "colab": {
          "base_uri": "https://localhost:8080/"
        },
        "id": "G7pioczTLkDH",
        "outputId": "b93922ae-48c7-4503-c8ca-c639891dff93"
      },
      "outputs": [
        {
          "output_type": "stream",
          "name": "stdout",
          "text": [
            "Enter the prior probability of the disease: 0.01\n",
            "Enter the likelihood of a positive test given the disease: 0.9\n",
            "Enter the overall probability of a positive test: 0.05\n",
            "Posterior probability of disease positive test: 0.18000000000000002\n"
          ]
        }
      ],
      "source": [
        "def binference(prior, givenpdisease, lpositive):\n",
        "  posterior = (givenpdisease * prior) / lpositive\n",
        "  return posterior\n",
        "\n",
        "prior = float(input(\"Enter the prior probability of the disease: \"))\n",
        "givenpdisease = float(input(\"Enter the likelihood of a positive test given the disease: \"))\n",
        "lpositive = float(input(\"Enter the overall probability of a positive test: \"))\n",
        "\n",
        "posterior = binference(prior, givenpdisease, lpositive)\n",
        "print(f\"Posterior probability of disease positive test: {posterior}\")"
      ]
    },
    {
      "cell_type": "markdown",
      "source": [
        "3. Feedback"
      ],
      "metadata": {
        "id": "CTJY5KdZQ1Qe"
      }
    },
    {
      "cell_type": "markdown",
      "source": [
        "This means that after a positive test, the probability of actually having the disease is 18%, which is much higher than the prior probability but still indicates a significant chance of not having the disease."
      ],
      "metadata": {
        "id": "GHrfJQmFQwY2"
      }
    },
    {
      "cell_type": "markdown",
      "source": [],
      "metadata": {
        "id": "-XvQmpu_NzaV"
      }
    }
  ]
}