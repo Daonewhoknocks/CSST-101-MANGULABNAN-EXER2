{
  "nbformat": 4,
  "nbformat_minor": 0,
  "metadata": {
    "colab": {
      "provenance": []
    },
    "kernelspec": {
      "name": "python3",
      "display_name": "Python 3"
    },
    "language_info": {
      "name": "python"
    }
  },
  "cells": [
    {
      "cell_type": "code",
      "execution_count": null,
      "metadata": {
        "id": "faijjvWpC6bp"
      },
      "outputs": [],
      "source": [
        "import numpy as np"
      ]
    },
    {
      "cell_type": "code",
      "source": [
        "def decision(simulation, psuccess, rsuccess, rfailure):\n",
        "  outcome = []\n",
        "  for _ in range(simulation):\n",
        "    if np.random.rand() < psuccess:\n",
        "        outcome.append(rsuccess)\n",
        "    else:\n",
        "        outcome.append(rfailure)\n",
        "\n",
        "  return np.mean(outcome)\n",
        "\n",
        "psuccess = 0.7\n",
        "rsuccess = 1000\n",
        "rfailure = -500\n",
        "\n",
        "aoutcome = decision(1000, psuccess, rsuccess, rfailure)\n",
        "\n",
        "print(f\"Expected value of decision: {aoutcome}\")"
      ],
      "metadata": {
        "colab": {
          "base_uri": "https://localhost:8080/"
        },
        "id": "X474cHazEOZ8",
        "outputId": "b5253d39-64e9-4656-8b80-7409d9a5dfca"
      },
      "execution_count": null,
      "outputs": [
        {
          "output_type": "stream",
          "name": "stdout",
          "text": [
            "Expected value of decision: 562.0\n"
          ]
        }
      ]
    },
    {
      "cell_type": "markdown",
      "source": [
        "3. Question\n"
      ],
      "metadata": {
        "id": "7vwULTHRGVmN"
      }
    },
    {
      "cell_type": "markdown",
      "source": [
        "The average return after 1000 iteration is **$562**"
      ],
      "metadata": {
        "id": "q3ImqLiJGW80"
      }
    },
    {
      "cell_type": "markdown",
      "source": [
        "4. Feedback\n"
      ],
      "metadata": {
        "id": "tjOgjhlBPiTV"
      }
    },
    {
      "cell_type": "markdown",
      "source": [
        "The simulation allows for understanding how often certain outcomes occur, which is crucial when making decisions under uncertainty. If you were to change psuccess, you could observe how that affects the expected value, thereby informing your decision-making process."
      ],
      "metadata": {
        "id": "PQVgSl0mHSrt"
      }
    }
  ]
}